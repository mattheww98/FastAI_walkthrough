{
 "cells": [
  {
   "cell_type": "markdown",
   "id": "6cb36584-0130-410d-b92e-ae0b57c25c0f",
   "metadata": {},
   "source": [
    "This is how I calculate `1+1`"
   ]
  },
  {
   "cell_type": "code",
   "execution_count": 1,
   "id": "ff01f8b6-b086-48d2-8dbe-5defa52cd662",
   "metadata": {},
   "outputs": [
    {
     "data": {
      "text/plain": [
       "2"
      ]
     },
     "execution_count": 1,
     "metadata": {},
     "output_type": "execute_result"
    }
   ],
   "source": [
    "1+1"
   ]
  },
  {
   "cell_type": "markdown",
   "id": "4eb58c99-e7a6-4451-a6e3-4c71f06aca40",
   "metadata": {},
   "source": [
    "This is how I use `sin`"
   ]
  },
  {
   "cell_type": "code",
   "execution_count": 2,
   "id": "41008169-f508-4c89-8778-69a4c6e337f1",
   "metadata": {},
   "outputs": [],
   "source": [
    "from numpy import *"
   ]
  },
  {
   "cell_type": "code",
   "execution_count": 3,
   "id": "88c0419d-e769-4896-b22d-546e69160d35",
   "metadata": {},
   "outputs": [],
   "source": [
    "a=array([0,pi/2])"
   ]
  },
  {
   "cell_type": "code",
   "execution_count": 4,
   "id": "f18ed893-d44f-47c0-bb50-6455c893c08d",
   "metadata": {},
   "outputs": [
    {
     "data": {
      "text/plain": [
       "array([0., 1.])"
      ]
     },
     "execution_count": 4,
     "metadata": {},
     "output_type": "execute_result"
    }
   ],
   "source": [
    "sin(a)"
   ]
  },
  {
   "cell_type": "code",
   "execution_count": null,
   "id": "fb3e6970-2e0c-46e8-a119-5166e1bac896",
   "metadata": {},
   "outputs": [],
   "source": []
  }
 ],
 "metadata": {
  "kernelspec": {
   "display_name": "Python 3 (ipykernel)",
   "language": "python",
   "name": "python3"
  },
  "language_info": {
   "codemirror_mode": {
    "name": "ipython",
    "version": 3
   },
   "file_extension": ".py",
   "mimetype": "text/x-python",
   "name": "python",
   "nbconvert_exporter": "python",
   "pygments_lexer": "ipython3",
   "version": "3.10.12"
  }
 },
 "nbformat": 4,
 "nbformat_minor": 5
}
